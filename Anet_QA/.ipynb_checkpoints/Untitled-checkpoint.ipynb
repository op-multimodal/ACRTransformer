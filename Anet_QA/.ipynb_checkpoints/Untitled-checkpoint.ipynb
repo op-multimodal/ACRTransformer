{
 "cells": [
  {
   "cell_type": "code",
   "execution_count": 47,
   "metadata": {},
   "outputs": [],
   "source": [
    "import numpy as np\n",
    "import h5py\n",
    "import os\n",
    "import torch\n",
    "import torch.nn as nn\n",
    "import json\n",
    "import pandas as pd\n",
    "import cPickle as pkl"
   ]
  },
  {
   "cell_type": "code",
   "execution_count": 48,
   "metadata": {},
   "outputs": [],
   "source": [
    "anet_data=json.load(open('/home/caorui/video_feature/anet-qa/activitynet-qa/dataset/train_a.json','r'))"
   ]
  },
  {
   "cell_type": "code",
   "execution_count": 49,
   "metadata": {},
   "outputs": [
    {
     "name": "stdout",
     "output_type": "stream",
     "text": [
      "{u'answer': u'1', u'type': 7, u'question_id': u'v_8TDYCXqSHCw_6'}\n"
     ]
    }
   ],
   "source": [
    "print anet_data[1235]"
   ]
  },
  {
   "cell_type": "code",
   "execution_count": 57,
   "metadata": {},
   "outputs": [],
   "source": [
    "label2ans=pkl.load(open('./anet-qa/label2ans.pkl','r'))\n",
    "dictionary=pkl.load(open('./anet-qa/dictionary.pkl','r'))\n",
    "ans2label=pkl.load(open('./anet-qa/ans2label.pkl','r'))"
   ]
  },
  {
   "cell_type": "code",
   "execution_count": 51,
   "metadata": {},
   "outputs": [],
   "source": [
    "train_q=json.load(open('/home/caorui/video_feature/anet-qa/activitynet-qa/dataset/train_q.json','r'))\n",
    "train_a=json.load(open('/home/caorui/video_feature/anet-qa/activitynet-qa/dataset/train_a.json','r'))\n",
    "val_q=json.load(open('/home/caorui/video_feature/anet-qa/activitynet-qa/dataset/val_q.json','r'))\n",
    "val_a=json.load(open('/home/caorui/video_feature/anet-qa/activitynet-qa/dataset/val_a.json','r'))"
   ]
  },
  {
   "cell_type": "code",
   "execution_count": 52,
   "metadata": {},
   "outputs": [
    {
     "name": "stdout",
     "output_type": "stream",
     "text": [
      "{u'answer': u'no', u'type': 3, u'question_id': u'v_ALjodjboELk_3'}\n",
      "{u'question_id': u'v_ALjodjboELk_3', u'question': u'are all the people in the video men', u'video_name': u'ALjodjboELk'}\n"
     ]
    }
   ],
   "source": [
    "print train_a[1]\n",
    "print train_q[1]"
   ]
  },
  {
   "cell_type": "code",
   "execution_count": 30,
   "metadata": {},
   "outputs": [
    {
     "name": "stdout",
     "output_type": "stream",
     "text": [
      "4116\n",
      "18000\n"
     ]
    }
   ],
   "source": [
    "count=0\n",
    "for i ,row in enumerate(val_a):\n",
    "    if len(row['answer'].split(' '))>1:\n",
    "        count+=1\n",
    "print count\n",
    "print len(val_a)"
   ]
  },
  {
   "cell_type": "code",
   "execution_count": 32,
   "metadata": {},
   "outputs": [
    {
     "name": "stdout",
     "output_type": "stream",
     "text": [
      "7081\n",
      "32000\n"
     ]
    }
   ],
   "source": [
    "count=0\n",
    "for i ,row in enumerate(train_a):\n",
    "    if len(row['answer'].split(' '))>1:\n",
    "        count+=1\n",
    "print count\n",
    "print len(train_a)"
   ]
  },
  {
   "cell_type": "code",
   "execution_count": 44,
   "metadata": {},
   "outputs": [],
   "source": [
    "val_dict={}\n",
    "for i,row in enumerate(val_a):\n",
    "    val_dict[row['question_id']]=row['answer']"
   ]
  },
  {
   "cell_type": "code",
   "execution_count": 53,
   "metadata": {},
   "outputs": [],
   "source": [
    "val_dict={}\n",
    "for i,row in enumerate(train_a):\n",
    "    val_dict[row['question_id']]=row['answer']\n",
    "pkl.dump(val_dict,open('/home/caorui/video_feature/anet-BSN/activitynet-qa/dataset/train_dict.pkl','w'))"
   ]
  },
  {
   "cell_type": "code",
   "execution_count": null,
   "metadata": {},
   "outputs": [],
   "source": []
  }
 ],
 "metadata": {
  "kernelspec": {
   "display_name": "Python 2",
   "language": "python",
   "name": "python2"
  },
  "language_info": {
   "codemirror_mode": {
    "name": "ipython",
    "version": 2
   },
   "file_extension": ".py",
   "mimetype": "text/x-python",
   "name": "python",
   "nbconvert_exporter": "python",
   "pygments_lexer": "ipython2",
   "version": "2.7.12"
  }
 },
 "nbformat": 4,
 "nbformat_minor": 2
}
