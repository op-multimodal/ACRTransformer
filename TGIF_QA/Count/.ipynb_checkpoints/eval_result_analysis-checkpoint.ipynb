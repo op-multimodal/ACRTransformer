{
 "cells": [
  {
   "cell_type": "code",
   "execution_count": 1,
   "metadata": {
    "ExecuteTime": {
     "end_time": "2019-03-19T11:43:45.832173Z",
     "start_time": "2019-03-19T11:43:45.762357Z"
    }
   },
   "outputs": [],
   "source": [
    "import numpy as np\n",
    "import json\n",
    "from tqdm import tqdm_notebook as tqdm"
   ]
  },
  {
   "cell_type": "code",
   "execution_count": 13,
   "metadata": {
    "ExecuteTime": {
     "end_time": "2019-03-19T11:53:49.868392Z",
     "start_time": "2019-03-19T11:53:49.805786Z"
    }
   },
   "outputs": [],
   "source": [
    "eval_file_path = './Eval_iter_10.json'\n",
    "with open(eval_file_path,'r') as f:\n",
    "    eval_list = json.load(f)"
   ]
  },
  {
   "cell_type": "code",
   "execution_count": 14,
   "metadata": {
    "ExecuteTime": {
     "end_time": "2019-03-19T11:53:52.052154Z",
     "start_time": "2019-03-19T11:53:52.036098Z"
    }
   },
   "outputs": [
    {
     "name": "stdout",
     "output_type": "stream",
     "text": [
      "[]\n",
      "{u'index': u'COUNT21381', u'gif_name': u'tumblr_ng9tfjNle31tqrrx3o1_500', u'pred': 5, u'question': u'How many times does the men clap their hands ?', u'label': 6, u'score': 0, u'real_pred': 4.9838714599609375}\n",
      "{6: [[6, 5, 0]]}\n"
     ]
    }
   ],
   "source": [
    "stadic = {}\n",
    "print stadic.keys()\n",
    "for line in eval_list:\n",
    "    print line\n",
    "    if line['label'] not in stadic:\n",
    "        stadic[line['label']] = []\n",
    "        stadic[line['label']].append([line['label'],line['pred'],line['real_pred'],line['score']])\n",
    "    else:\n",
    "        stadic[line['label']].append([line['label'],line['pred'],line['real_pred'],line['score']])\n",
    "    break\n",
    "print stadic"
   ]
  },
  {
   "cell_type": "code",
   "execution_count": 11,
   "metadata": {
    "ExecuteTime": {
     "end_time": "2019-03-19T11:48:42.820176Z",
     "start_time": "2019-03-19T11:48:42.801850Z"
    }
   },
   "outputs": [],
   "source": [
    "test_pred = stadic[6][0][1]"
   ]
  },
  {
   "cell_type": "code",
   "execution_count": 12,
   "metadata": {
    "ExecuteTime": {
     "end_time": "2019-03-19T11:48:57.444168Z",
     "start_time": "2019-03-19T11:48:57.432286Z"
    }
   },
   "outputs": [
    {
     "name": "stdout",
     "output_type": "stream",
     "text": [
      "5\n",
      "<type 'int'>\n"
     ]
    }
   ],
   "source": [
    "print test_pred\n",
    "print type(test_pred)"
   ]
  },
  {
   "cell_type": "code",
   "execution_count": null,
   "metadata": {},
   "outputs": [],
   "source": []
  }
 ],
 "metadata": {
  "kernelspec": {
   "display_name": "Python 2",
   "language": "python",
   "name": "python2"
  },
  "language_info": {
   "codemirror_mode": {
    "name": "ipython",
    "version": 2
   },
   "file_extension": ".py",
   "mimetype": "text/x-python",
   "name": "python",
   "nbconvert_exporter": "python",
   "pygments_lexer": "ipython2",
   "version": "2.7.12"
  },
  "varInspector": {
   "cols": {
    "lenName": 16,
    "lenType": 16,
    "lenVar": 40
   },
   "kernels_config": {
    "python": {
     "delete_cmd_postfix": "",
     "delete_cmd_prefix": "del ",
     "library": "var_list.py",
     "varRefreshCmd": "print(var_dic_list())"
    },
    "r": {
     "delete_cmd_postfix": ") ",
     "delete_cmd_prefix": "rm(",
     "library": "var_list.r",
     "varRefreshCmd": "cat(var_dic_list()) "
    }
   },
   "types_to_exclude": [
    "module",
    "function",
    "builtin_function_or_method",
    "instance",
    "_Feature"
   ],
   "window_display": false
  }
 },
 "nbformat": 4,
 "nbformat_minor": 2
}
