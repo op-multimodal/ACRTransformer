{
 "cells": [
  {
   "cell_type": "code",
   "execution_count": 13,
   "metadata": {},
   "outputs": [],
   "source": [
    "import os\n",
    "import pandas as pd\n",
    "import json\n",
    "import cPickle as pkl\n",
    "import numpy as np\n",
    "import config\n",
    "import h5py\n",
    "import torch\n",
    "from tqdm import tqdm_notebook as tqdm"
   ]
  },
  {
   "cell_type": "code",
   "execution_count": null,
   "metadata": {},
   "outputs": [],
   "source": []
  },
  {
   "cell_type": "code",
   "execution_count": 14,
   "metadata": {},
   "outputs": [],
   "source": [
    "class opt():\n",
    "    def __init__(self):\n",
    "        self.VIDEO_LEN = 35\n",
    "        self.NUM_PROPOSAL = 6\n",
    "        self.FEATURE_DIR = '/mnt/disk_data/wangni/tgif/features'\n",
    "        self.QUESTION_TYPE = 'Action'\n",
    "        self.TEXT_DIR = '/mnt/disk_data/wangni/tgif/tgif-qa-master/dataset'\n",
    "        self.HDF5_JSON = '/home/zhangjipeng/videoQA/BSN/BSN_tgif/output/result_proposal.json'\n",
    "opt = opt()\n",
    "CSV_TYPE={'Count': '_count_question.csv',\n",
    "          'Trans': '_transition_question.csv',\n",
    "          'Action' : '_action_question.csv'\n",
    "         }"
   ]
  },
  {
   "cell_type": "code",
   "execution_count": 15,
   "metadata": {},
   "outputs": [],
   "source": [
    "\n",
    "def mask_feat(o_feat,r_feat,proposal_info):\n",
    "        conct=torch.cat((o_feat,r_feat),1).float()\n",
    "        conct_new=conct.repeat(opt.NUM_PROPOSAL,1,1)\n",
    "        mask_tensor=torch.zeros(opt.NUM_PROPOSAL,opt.VIDEO_LEN)\n",
    "        for i in range(opt.NUM_PROPOSAL):\n",
    "            start,end=compute_interval(proposal_info[i]['frame_segment'])\n",
    "            mask_tensor[i][start:end]=1.0\n",
    "        mask_tensor=torch.unsqueeze(mask_tensor,2)\n",
    "        mask_feat=conct_new * mask_tensor\n",
    "        mask=torch.squeeze(torch.sum(mask_feat,0))/opt.NUM_PROPOSAL +conct\n",
    "        return mask\n",
    "\n",
    "def compute_interval(proposal_info):\n",
    "    start=min(max(int(proposal_info[0]*opt.VIDEO_LEN),0),opt.VIDEO_LEN)\n",
    "    end=min(max(int(proposal_info[1]*opt.VIDEO_LEN),0),opt.VIDEO_LEN)\n",
    "    return start,end\n",
    "    \n",
    "\n"
   ]
  },
  {
   "cell_type": "code",
   "execution_count": 16,
   "metadata": {},
   "outputs": [],
   "source": [
    "def padding_video(video_feature):\n",
    "        padding_feat=np.zeros([opt.VIDEO_LEN,video_feature.shape[1]])\n",
    "        num_padding=opt.VIDEO_LEN-video_feature.shape[0]\n",
    "        if num_padding==0:\n",
    "            padding_feat=video_feature\n",
    "        elif num_padding<0:\n",
    "            steps=np.linspace(0, video_feature.shape[0], num=opt.VIDEO_LEN, endpoint=False, dtype=np.int32)\n",
    "            padding_feat=video_feature[steps]\n",
    "        else:\n",
    "            padding_feat[:-num_padding]=video_feature\n",
    "        return padding_feat"
   ]
  },
  {
   "cell_type": "code",
   "execution_count": 27,
   "metadata": {},
   "outputs": [
    {
     "name": "stdout",
     "output_type": "stream",
     "text": [
      "58936\n"
     ]
    }
   ],
   "source": [
    "CSV_TYPE = { 'Action' : '_action_question.csv'}\n",
    "\n",
    "def _read_from_csv():\n",
    "    total_frames = []\n",
    "    for QUESTION_TYPE in CSV_TYPE:\n",
    "        #print QUESTION_TYPE\n",
    "        total_path=os.path.join(opt.TEXT_DIR,('Total'+CSV_TYPE[QUESTION_TYPE]))\n",
    "        \n",
    "        total=pd.read_csv(total_path,sep='\\t')\n",
    "        \n",
    "        total=total.set_index('vid_id')\n",
    "        total_frames.append(total)\n",
    "    total_text = total_frames[0]\n",
    "    #for i in total_frames:\n",
    "    #    print i.shape[0]\n",
    "    #    total_text.append(i)\n",
    "    total_text = pd.concat(total_frames)\n",
    "    print total_text.shape[0]\n",
    "    return total_text\n",
    "total = _read_from_csv()"
   ]
  },
  {
   "cell_type": "code",
   "execution_count": 26,
   "metadata": {},
   "outputs": [
    {
     "name": "stdout",
     "output_type": "stream",
     "text": [
      "22749\n"
     ]
    }
   ],
   "source": [
    "print total.shape[0]"
   ]
  },
  {
   "cell_type": "code",
   "execution_count": 18,
   "metadata": {},
   "outputs": [],
   "source": [
    "res_path=os.path.join(opt.FEATURE_DIR,'TGIF_C3D_fc6.hdf5')\n",
    "optical_path=os.path.join(opt.FEATURE_DIR,'TGIF_optical.hdf5')\n",
    "res=h5py.File(res_path,'r')\n",
    "optical=h5py.File(optical_path,'r')"
   ]
  },
  {
   "cell_type": "code",
   "execution_count": 9,
   "metadata": {},
   "outputs": [
    {
     "name": "stdout",
     "output_type": "stream",
     "text": [
      "102068\n"
     ]
    }
   ],
   "source": [
    "print len(res.keys())"
   ]
  },
  {
   "cell_type": "code",
   "execution_count": 12,
   "metadata": {},
   "outputs": [
    {
     "name": "stdout",
     "output_type": "stream",
     "text": [
      "53247\n"
     ]
    }
   ],
   "source": [
    "print len(optical.keys())"
   ]
  },
  {
   "cell_type": "code",
   "execution_count": 20,
   "metadata": {},
   "outputs": [],
   "source": [
    "hdf5_result = json.load(open(opt.HDF5_JSON,'r'))['results']"
   ]
  },
  {
   "cell_type": "code",
   "execution_count": 28,
   "metadata": {
    "scrolled": true
   },
   "outputs": [
    {
     "data": {
      "application/vnd.jupyter.widget-view+json": {
       "model_id": "61cbc606d08f4896af71c53f60463f8a",
       "version_major": 2,
       "version_minor": 0
      },
      "text/html": [
       "<p>Failed to display Jupyter Widget of type <code>HBox</code>.</p>\n",
       "<p>\n",
       "  If you're reading this message in the Jupyter Notebook or JupyterLab Notebook, it may mean\n",
       "  that the widgets JavaScript is still loading. If this message persists, it\n",
       "  likely means that the widgets JavaScript library is either not installed or\n",
       "  not enabled. See the <a href=\"https://ipywidgets.readthedocs.io/en/stable/user_install.html\">Jupyter\n",
       "  Widgets Documentation</a> for setup instructions.\n",
       "</p>\n",
       "<p>\n",
       "  If you're reading this message in another frontend (for example, a static\n",
       "  rendering on GitHub or <a href=\"https://nbviewer.jupyter.org/\">NBViewer</a>),\n",
       "  it may mean that your frontend doesn't currently support widgets.\n",
       "</p>\n"
      ],
      "text/plain": [
       "HBox(children=(IntProgress(value=0, max=58936), HTML(value=u'')))"
      ]
     },
     "metadata": {},
     "output_type": "display_data"
    }
   ],
   "source": [
    "count = 0\n",
    "idx = list(total.index)\n",
    "#print '-'*40\n",
    "f = h5py.File('/mnt/disk_data/wangni/tgif/features/merge_trans.hdf5','w')\n",
    "#print '-'*40\n",
    "pbar = tqdm(total=total.shape[0])\n",
    "#print '-'*40\n",
    "dic = {}\n",
    "for row in total.iterrows():\n",
    "    gif_name = row[1]['gif_name']\n",
    "    vid = str(row[1]['key'])\n",
    "    if vid not in dic:\n",
    "        proposal_info=hdf5_result[gif_name[2:]]\n",
    "        r_feat = np.array(res[vid],dtype=np.float64)\n",
    "        o_feat=np.array(optical[vid],dtype=np.float64)\n",
    "\n",
    "        r_feat = torch.from_numpy(padding_video(r_feat))\n",
    "        o_feat = torch.from_numpy(padding_video(o_feat))\n",
    "\n",
    "        total_feat = mask_feat(o_feat,r_feat,proposal_info)\n",
    "        f[vid] = total_feat.numpy()\n",
    "        dic[vid] = 1\n",
    "    else :\n",
    "        dic[vid] += 1\n",
    "        continue\n",
    "    pbar.update(1)\n",
    "f.close()"
   ]
  },
  {
   "cell_type": "code",
   "execution_count": 48,
   "metadata": {},
   "outputs": [
    {
     "data": {
      "text/plain": [
       "26843"
      ]
     },
     "execution_count": 48,
     "metadata": {},
     "output_type": "execute_result"
    }
   ],
   "source": [
    "total.shape[0]"
   ]
  },
  {
   "cell_type": "code",
   "execution_count": null,
   "metadata": {},
   "outputs": [],
   "source": []
  }
 ],
 "metadata": {
  "kernelspec": {
   "display_name": "Python 2",
   "language": "python",
   "name": "python2"
  },
  "language_info": {
   "codemirror_mode": {
    "name": "ipython",
    "version": 2
   },
   "file_extension": ".py",
   "mimetype": "text/x-python",
   "name": "python",
   "nbconvert_exporter": "python",
   "pygments_lexer": "ipython2",
   "version": "2.7.12"
  }
 },
 "nbformat": 4,
 "nbformat_minor": 2
}
